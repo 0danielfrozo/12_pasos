{
 "metadata": {
  "name": "16 - Step 12"
 },
 "nbformat": 3,
 "nbformat_minor": 0,
 "worksheets": [
  {
   "cells": [
    {
     "cell_type": "raw",
     "metadata": {},
     "source": [
      "Text and code provided under a Creative Commons Attribution license, CC-BY. (c) Lorena A. Barba, 2013. Thanks: Gilbert Forsyth for help writing the notebooks. NSF for support via CAREER award #1149784."
     ]
    },
    {
     "cell_type": "markdown",
     "metadata": {},
     "source": [
      "[@LorenaABarba](https://twitter.com/LorenaABarba)"
     ]
    },
    {
     "cell_type": "markdown",
     "metadata": {},
     "source": [
      "12 steps to Navier-Stokes\n",
      "=====\n",
      "***"
     ]
    },
    {
     "cell_type": "markdown",
     "metadata": {},
     "source": [
      "Did you make it so far? This is the last step! How long did it take you to write your own Navier-Stokes solver in Python following this interactive module? Let us know!"
     ]
    },
    {
     "cell_type": "markdown",
     "metadata": {},
     "source": [
      "Step 12: Channel Flow with Navier-Stokes\n",
      "----\n",
      "***"
     ]
    },
    {
     "cell_type": "markdown",
     "metadata": {},
     "source": [
      "The only difference between this final step and Step 11 is that we are going to add a source term to the $u$-momentum equation, to mimic the effect of a pressure-driven channel flow. Here are our modified Navier-Stokes equations:"
     ]
    },
    {
     "cell_type": "markdown",
     "metadata": {},
     "source": [
      "\\begin{eqnarray}\n",
      "\\frac{\\partial u}{\\partial t}+u\\frac{\\partial u}{\\partial x}+v\\frac{\\partial u}{\\partial y}&=&-\\frac{1}{\\rho}\\frac{\\partial p}{\\partial x}+\\nu\\left(\\frac{\\partial^2 u}{\\partial x^2}+\\frac{\\partial^2 u}{\\partial y^2}\\right)+F\\\\\\\n",
      "\\frac{\\partial v}{\\partial t}+u\\frac{\\partial v}{\\partial x}+v\\frac{\\partial v}{\\partial y}&=&-\\frac{1}{\\rho}\\frac{\\partial p}{\\partial y}+\\nu\\left(\\frac{\\partial^2 v}{\\partial x^2}+\\frac{\\partial^2 v}{\\partial y^2}\\right)\\\\\\\n",
      "\\frac{\\partial^2 p}{\\partial x^2}+\\frac{\\partial^2 p}{\\partial y^2}&=&-\\rho\\left\\(\\frac{\\partial u}{\\partial x}\\frac{\\partial u}{\\partial x}+2\\frac{\\partial u}{\\partial y}\\frac{\\partial v}{\\partial x}+\\frac{\\partial v}{\\partial y}\\frac{\\partial v}{\\partial y}\\right\\)\n",
      "\\end{eqnarray}"
     ]
    },
    {
     "cell_type": "heading",
     "level": 3,
     "metadata": {},
     "source": [
      "Discretized equations"
     ]
    },
    {
     "cell_type": "markdown",
     "metadata": {},
     "source": [
      "With patience and care, we write the discretized form of the equations. It is highly recommended that you write these in your own hand, mentally following each term as you write it.\n",
      "\n",
      "The $u$-momentum equation:\n",
      "\n",
      "\\begin{eqnarray}\n",
      "&&\\frac{u_{i,j}^{n+1}-u_{i,j}^{n}}{\\Delta t}+u_{i,j}^{n}\\frac{u_{i,j}^{n}-u_{i-1,j}^{n}}{\\Delta x}+v_{i,j}^{n}\\frac{u_{i,j}^{n}-u_{i,j-1}^{n}}{\\Delta y}\\\\\\\n",
      "&&=-\\frac{1}{\\rho}\\frac{p_{i+1,j}^{n}-p_{i-1,j}^{n}}{2\\Delta x}\\\\\\\n",
      "&&+\\nu\\left(\\frac{u_{i+1,j}^{n}-2u_{i,j}^{n}+u_{i-1,j}^{n}}{\\Delta x^2}+\\frac{u_{i,j+1}^{n}-2u_{i,j}^{n}+u_{i,j-1}^{n}}{\\Delta y^2}\\right)+F_{i,j}\n",
      "\\end{eqnarray}\n",
      "\n",
      "The $v$-momentum equation:\n",
      "\n",
      "\\begin{eqnarray}\n",
      "&&\\frac{v_{i,j}^{n+1}-v_{i,j}^{n}}{\\Delta t}+u_{i,j}^{n}\\frac{v_{i,j}^{n}-v_{i-1,j}^{n}}{\\Delta x}+v_{i,j}^{n}\\frac{v_{i,j}^{n}-v_{i,j-1}^{n}}{\\Delta y}\\\\\\\n",
      "&&=-\\frac{1}{\\rho}\\frac{p_{i,j+1}^{n}-p_{i,j-1}^{n}}{2\\Delta y}\\\\\\\n",
      "&&+\\nu\\left(\\frac{v_{i+1,j}^{n}-2v_{i,j}^{n}+v_{i-1,j}^{n}}{\\Delta x^2}+\\frac{v_{i,j+1}^{n}-2v_{i,j}^{n}+v_{i,j-1}^{n}}{\\Delta y^2}\\right)\n",
      "\\end{eqnarray}\n",
      "\n",
      "And the pressure equation:\n",
      "\n",
      "\\begin{eqnarray}\n",
      "&&\\frac{p_{i+1,j}^{n}-2p_{i,j}^{n}+p_{i-1,j}^{n}}{\\Delta x^2}+\\frac{p_{i,j+1}^{n}-2*p_{i,j}^{n}+p_{i,j-1}^{n}}{\\Delta y^2}\\\\\\\n",
      "&&=\\rho\\left\\[\\frac{1}{\\Delta t}\\left(\\frac{u_{i+1,j}-u_{i-1,j}}{2\\Delta x}+\\frac{v_{i,j+1}-v_{i,j-1}}{2\\Delta y}\\right)\\right.\\\\\\\n",
      "&&-\\frac{u_{i+1,j}-u_{i-1,j}}{2\\Delta x}\\frac{u_{i+1,j}-u_{i-1,j}}{2\\Delta x}\\\\\\\n",
      "&&-2\\frac{u_{i,j+1}-u_{i,j-1}}{2\\Delta y}\\frac{v_{i+1,j}-v_{i-1,j}}{2\\Delta x}\\\\\\\n",
      "&&-\\left.\\frac{v_{i,j+1}-v_{i,j-1}}{2\\Delta y}\\frac{v_{i,j+1}-v_{i,j-1}}{2\\Delta y}\\right\\]\n",
      "\\end{eqnarray}"
     ]
    },
    {
     "cell_type": "markdown",
     "metadata": {},
     "source": [
      "As always, we need to re-arrange these equations to the form we need in the code to make the iterations proceed. \n",
      "\n",
      "For the $u$- and $v$ momentum equations, we isolate the velocity at time step `n+1`:\n",
      "\n",
      "\\begin{eqnarray}\n",
      "u_{i,j}^{n+1} = u_{i,j}^{n} &-& u_{i,j}^{n}\\frac{\\Delta t}{\\Delta x}(u_{i,j}^{n}-u_{i-1,j}^{n})-v_{i,j}^{n}\\frac{\\Delta t}{\\Delta y}(u_{i,j}^{n}-u_{i,j-1}^{n})\\\\\\\n",
      "&-&\\frac{\\Delta t}{\\rho 2\\Delta x}(p_{i+1,j}^{n}-p_{i-1,j}^{n})+\\nu\\left\\[\\frac{\\Delta t}{\\Delta x^2}(u_{i+1,j}^{n}-2u_{i,j}^{n}+u_{i-1,j}^{n})\\right.\\\\\\\n",
      "&+&\\left.\\frac{\\Delta t}{\\Delta y^2}(u_{i,j+1}^{n}-2u_{i,j}^{n}+u_{i,j-1}^{n})\\right\\] + F\\Delta t\n",
      "\\end{eqnarray}\n",
      "\n",
      "\\begin{eqnarray}\n",
      "v_{i,j}^{n+1}=v_{i,j}^{n}&-&u_{i,j}^{n}\\frac{\\Delta t}{\\Delta x}(v_{i,j}^{n}-v_{i-1,j}^{n})-v_{i,j}^{n}\\frac{\\Delta t}{\\Delta y}(v_{i,j}^{n}-v_{i,j-1}^{n})\\\\\\\n",
      "&-&\\frac{\\Delta t}{\\rho 2\\Delta y}(p_{i,j+1}^{n}-p_{i,j-1}^{n})+\\nu\\left\\[\\frac{\\Delta t}{\\Delta x^2}(v_{i+1,j}^{n}-2v_{i,j}^{n}+v_{i-1,j}^{n})\\right.\\\\\\\n",
      "&+&\\left.\\frac{\\Delta t}{\\Delta y^2}(v_{i,j+1}^{n}-2v_{i,j}^{n}+v_{i,j-1}^{n})\\right\\]\n",
      "\\end{eqnarray}\n",
      "\n",
      "And for the pressure equation, we isolate the term $p_{i,j}^n$ to iterate in pseudo-time:\n",
      "\n",
      "\\begin{eqnarray}\n",
      "p_{i,j}^{n}&=&\\frac{(p_{i+1,j}^{n}+p_{i-1,j}^{n})\\Delta y^2+(p_{i,j+1}^{n}+p_{i,j-1}^{n})\\Delta x^2}{2(\\Delta x^2+\\Delta y^2)}-\\frac{\\rho\\Delta x^2\\Delta y^2}{2(\\Delta x^2+\\Delta y^2)}\\times \\\\\\\n",
      "&&\\left\\[\\frac{1}{\\Delta t}\\left(\\frac{u_{i+1,j}-u_{i-1,j}}{2\\Delta x}+\\frac{v_{i,j+1}-v_{i,j-1}}{2\\Delta y}\\right)- \\frac{u_{i+1,j}-u_{i-1,j}}{2\\Delta x}\\frac{u_{i+1,j}-u_{i-1,j}}{2\\Delta x} \\right.\\\\\\\n",
      "&-& 2\\frac{u_{i,j+1}-u_{i,j-1}}{2\\Delta y}\\frac{v_{i+1,j}-v_{i-1,j}}{2\\Delta x}-\\left.\\frac{v_{i,j+1}-v_{i,j-1}}{2\\Delta y}\\frac{v_{i,j+1}-v_{i,j-1}}{2\\Delta y}\\right\\]\n",
      "\\end{eqnarray}"
     ]
    },
    {
     "cell_type": "markdown",
     "metadata": {},
     "source": [
      "The initial condition is $u, v, p=0$ everywhere, and athe boundary conditions are:\n",
      "\n",
      "$u, v, p$ are periodic on $x=0,2$\n",
      "\n",
      "$u, v =0$ at $y =0,2$\n",
      "\n",
      "$\\frac{\\partial p}{\\partial y}=0$ at $y =0,2$\n",
      "\n",
      "$F=1$ everywhere.\n"
     ]
    },
    {
     "cell_type": "code",
     "collapsed": false,
     "input": [
      "from mpl_toolkits.mplot3d import Axes3D\n",
      "from matplotlib import cm\n",
      "import matplotlib.pyplot as plt\n",
      "import numpy as np"
     ],
     "language": "python",
     "metadata": {},
     "outputs": [],
     "prompt_number": 1
    },
    {
     "cell_type": "code",
     "collapsed": false,
     "input": [
      "\n",
      "def buildUpB(rho, dt, dx, dy, u, v):\n",
      "    b = np.zeros_like(u)\n",
      "    \n",
      "    b[1:-1,1:-1]=rho*(1/dt*((u[2:,1:-1]-u[0:-2,1:-1])/(2*dx)+(v[1:-1,2:]-v[1:-1,0:-2])/(2*dy))-\\\n",
      "\t\t((u[2:,1:-1]-u[0:-2,1:-1])/(2*dx))**2-\\\n",
      "\t\t2*((u[1:-1,2:]-u[1:-1,0:-2])/(2*dy)*(v[2:,1:-1]-v[0:-2,1:-1])/(2*dx))-\\\n",
      "\t\t((v[1:-1,2:]-v[1:-1,0:-2])/(2*dy))**2)\t\n",
      "\t\n",
      "\t####Periodic BC Pressure @ x = 2\n",
      "    b[-1,1:-1]=rho*(1/dt*((u[0,1:-1]-u[-2,1:-1])/(2*dx)+(v[-1,2:]-v[-1,0:-2])/(2*dy))-\\\n",
      "\t\t((u[0,1:-1]-u[-2,1:-1])/(2*dx))**2-\\\n",
      "\t\t2*((u[-1,2:]-u[-1,0:-2])/(2*dy)*(v[0,1:-1]-v[-2,1:-1])/(2*dx))-\\\n",
      "\t\t((v[-1,2:]-v[-1,0:-2])/(2*dy))**2)\t\n",
      "\n",
      "\t####Periodic BC Pressure @ x = 0\n",
      "    b[0,1:-1]=rho*(1/dt*((u[1,1:-1]-u[-1,1:-1])/(2*dx)+(v[0,2:]-v[0,0:-2])/(2*dy))-\\\n",
      "\t\t((u[1,1:-1]-u[-1,1:-1])/(2*dx))**2-\\\n",
      "\t\t2*((u[0,2:]-u[0,0:-2])/(2*dy)*(v[1,1:-1]-v[-1,1:-1])/(2*dx))-\\\n",
      "\t\t((v[0,2:]-v[0,0:-2])/(2*dy))**2)\n",
      "    \n",
      "    return b"
     ],
     "language": "python",
     "metadata": {},
     "outputs": [],
     "prompt_number": 4
    },
    {
     "cell_type": "code",
     "collapsed": false,
     "input": [
      "def presPoissPeriodic(p, dx, dy):\n",
      "    pn = np.empty_like(p)\n",
      "    \n",
      "    for q in range(nit):\t\n",
      "\t\tpn[:]=p[:]\n",
      "\t\tp[1:-1,1:-1] = ((pn[2:,1:-1]+pn[0:-2,1:-1])*dy**2+(pn[1:-1,2:]+pn[1:-1,0:-2])*dx**2)/\\\n",
      "\t\t\t(2*(dx**2+dy**2)) -\\\n",
      "\t\t\tdx**2*dy**2/(2*(dx**2+dy**2))*b[1:-1,1:-1]\n",
      "\n",
      "\t\t####Periodic BC Pressure @ x = 2\n",
      "\t\tp[-1,1:-1] = ((pn[0,1:-1]+pn[-2,1:-1])*dy**2+(pn[-1,2:]+pn[-1,0:-2])*dx**2)/\\\n",
      "\t\t\t(2*(dx**2+dy**2)) -\\\n",
      "\t\t\tdx**2*dy**2/(2*(dx**2+dy**2))*b[-1,1:-1]\n",
      "\n",
      "\t\t####Periodic BC Pressure @ x = 0\n",
      "\t\tp[0,1:-1] = ((pn[1,1:-1]+pn[-1,1:-1])*dy**2+(pn[0,2:]+pn[0,0:-2])*dx**2)/\\\n",
      "\t\t\t(2*(dx**2+dy**2)) -\\\n",
      "\t\t\tdx**2*dy**2/(2*(dx**2+dy**2))*b[0,1:-1]\n",
      "\t\t\n",
      "\t\t####Wall boundary conditions, pressure\n",
      "\t\tp[-1,:] =p[-2,:]\t##dp/dy = 0 at y = 2\n",
      "\t\tp[0,:] = p[1,:]\t\t##dp/dy = 0 at y = 0\n",
      "    \n",
      "    return p"
     ],
     "language": "python",
     "metadata": {},
     "outputs": [],
     "prompt_number": 5
    },
    {
     "cell_type": "code",
     "collapsed": false,
     "input": [
      "##variable declarations\n",
      "nx = 41\n",
      "ny = 41\n",
      "nt = 10\n",
      "nit=50 \n",
      "c = 1\n",
      "dx = 2.0/(nx-1)\n",
      "dy = 2.0/(ny-1)\n",
      "x = np.linspace(0,2,nx)\n",
      "y = np.linspace(0,2,ny)\n",
      "Y,X = np.meshgrid(y,x)\n",
      "\n",
      "\n",
      "##physical variables\n",
      "rho = 1\n",
      "nu = .1\n",
      "F = 1\n",
      "dt = .01\n",
      "\n",
      "#initial conditions\n",
      "u = np.zeros((ny,nx)) ##create a XxY vector of 0's\n",
      "un = np.zeros((ny,nx)) ##create a XxY vector of 0's\n",
      "\n",
      "v = np.zeros((ny,nx)) ##create a XxY vector of 0's\n",
      "vn = np.zeros((ny,nx)) ##create a XxY vector of 0's\n",
      "\n",
      "p = np.ones((ny,nx)) ##create a XxY vector of 0's\n",
      "pn = np.ones((ny,nx)) ##create a XxY vector of 0's\n",
      "\n",
      "b = np.zeros((ny,nx))\n",
      "\n",
      "udiff = 1\n",
      "stepcount = 0\n",
      "\n",
      "while udiff > .001:\n",
      "    un[:] = u[:]\n",
      "    vn[:] = v[:]\n",
      "\t\n",
      "    b = buildUpB(rho, dt, dx, dy, u, v)\n",
      "    p = presPoissPeriodic(p, dx, dy)\n",
      "\n",
      "\t\n",
      "\t\t\n",
      "    u[1:-1,1:-1] = un[1:-1,1:-1]-\\\n",
      "\t\tun[1:-1,1:-1]*dt/dx*(un[1:-1,1:-1]-un[0:-2,1:-1])-\\\n",
      "\t\tvn[1:-1,1:-1]*dt/dy*(un[1:-1,1:-1]-un[1:-1,0:-2])-\\\n",
      "\t\tdt/(2*rho*dx)*(p[2:,1:-1]-p[0:-2,1:-1])+\\\n",
      "\t\tnu*(dt/dx**2*(un[2:,1:-1]-2*un[1:-1,1:-1]+un[0:-2,1:-1])+\\\n",
      "\t\tdt/dy**2*(un[1:-1,2:]-2*un[1:-1,1:-1]+un[1:-1,0:-2]))+F*dt\n",
      "\t\n",
      "    v[1:-1,1:-1] = vn[1:-1,1:-1]-\\\n",
      "\t\tun[1:-1,1:-1]*dt/dx*(vn[1:-1,1:-1]-vn[0:-2,1:-1])-\\\n",
      "\t\tvn[1:-1,1:-1]*dt/dy*(vn[1:-1,1:-1]-vn[1:-1,0:-2])-\\\n",
      "\t\tdt/(2*rho*dy)*(p[1:-1,2:]-p[1:-1,0:-2])+\\\n",
      "\t\tnu*(dt/dx**2*(vn[2:,1:-1]-2*vn[1:-1,1:-1]+vn[0:-2,1:-1])+\\\n",
      "\t\t(dt/dy**2*(vn[1:-1,2:]-2*vn[1:-1,1:-1]+vn[1:-1,0:-2])))\n",
      "\t\n",
      "\t####Periodic BC u @ x = 2\n",
      "    u[-1,1:-1] = un[-1,1:-1]-\\\n",
      "\t\tun[-1,1:-1]*dt/dx*(un[-1,1:-1]-un[-2,1:-1])-\\\n",
      "\t\tvn[-1,1:-1]*dt/dy*(un[-1,1:-1]-un[-1,0:-2])-\\\n",
      "\t\tdt/(2*rho*dx)*(p[0,1:-1]-p[-2,1:-1])+\\\n",
      "\t\tnu*(dt/dx**2*(un[0,1:-1]-2*un[-1,1:-1]+un[-2,1:-1])+\\\n",
      "\t\tdt/dy**2*(un[-1,2:]-2*un[-1,1:-1]+un[-1,0:-2]))+F*dt\n",
      "\n",
      "\t####Periodic BC u @ x = 0\n",
      "    u[0,1:-1] = un[0,1:-1]-\\\n",
      "\t\tun[0,1:-1]*dt/dx*(un[0,1:-1]-un[-1,1:-1])-\\\n",
      "\t\tvn[0,1:-1]*dt/dy*(un[0,1:-1]-un[0,0:-2])-\\\n",
      "\t\tdt/(2*rho*dx)*(p[1,1:-1]-p[-1,1:-1])+\\\n",
      "\t\tnu*(dt/dx**2*(un[1,1:-1]-2*un[0,1:-1]+un[-1,1:-1])+\\\n",
      "\t\tdt/dy**2*(un[0,2:]-2*un[0,1:-1]+un[0,0:-2]))+F*dt\n",
      "\n",
      "\t####Periodic BC v @ x = 2\n",
      "    v[-1,1:-1] = vn[-1,1:-1]-\\\n",
      "\t\tun[-1,1:-1]*dt/dx*(vn[-1,1:-1]-vn[-2,1:-1])-\\\n",
      "\t\tvn[-1,1:-1]*dt/dy*(vn[-1,1:-1]-vn[-1,0:-2])-\\\n",
      "\t\tdt/(2*rho*dy)*(p[-1,2:]-p[-1,0:-2])+\\\n",
      "\t\tnu*(dt/dx**2*(vn[0,1:-1]-2*vn[-1,1:-1]+vn[-2,1:-1])+\\\n",
      "\t\t(dt/dy**2*(vn[-1,2:]-2*vn[-1,1:-1]+vn[-1,0:-2])))\n",
      "\n",
      "\t####Periodic BC v @ x = 0\n",
      "    v[0,1:-1] = vn[0,1:-1]-\\\n",
      "\t\tun[0,1:-1]*dt/dx*(vn[0,1:-1]-vn[-1,1:-1])-\\\n",
      "\t\tvn[0,1:-1]*dt/dy*(vn[0,1:-1]-vn[0,0:-2])-\\\n",
      "\t\tdt/(2*rho*dy)*(p[0,2:]-p[0,0:-2])+\\\n",
      "\t\tnu*(dt/dx**2*(vn[1,1:-1]-2*vn[0,1:-1]+vn[-1,1:-1])+\\\n",
      "\t\t(dt/dy**2*(vn[0,2:]-2*vn[0,1:-1]+vn[0,0:-2])))\n",
      "\n",
      "\t####Wall BC: u,v = 0 @ y = 0,2\n",
      "    u[:,0] = 0\n",
      "    u[:,-1] = 0\n",
      "    v[:,0] = 0\n",
      "    v[:,-1]=0\n",
      "\t\n",
      "    udiff = (np.sum(u)-np.sum(un))/np.sum(u)\n",
      "    stepcount += 1"
     ],
     "language": "python",
     "metadata": {},
     "outputs": [],
     "prompt_number": 6
    },
    {
     "cell_type": "code",
     "collapsed": false,
     "input": [
      "fig = plt.figure(figsize = (11,7), dpi=100)\n",
      "plt.quiver(X[::3, ::3], Y[::3, ::3], u[::3, ::3], v[::3, ::3])"
     ],
     "language": "python",
     "metadata": {},
     "outputs": [
      {
       "output_type": "pyout",
       "prompt_number": 7,
       "text": [
        "<matplotlib.quiver.Quiver at 0x3956050>"
       ]
      },
      {
       "output_type": "display_data",
       "png": "[encoded data removed]"
      }
     ],
     "prompt_number": 7
    },
    {
     "cell_type": "code",
     "collapsed": false,
     "input": [],
     "language": "python",
     "metadata": {},
     "outputs": []
    },
    {
     "cell_type": "markdown",
     "metadata": {},
     "source": [
      "##Learn more\n",
      "***"
     ]
    },
    {
     "cell_type": "markdown",
     "metadata": {},
     "source": [
      "#####What is the meaning of the $F$ term?\n",
      "\n",
      "Step 12 is an exercise demonstrating the problem of flow in a channel or pipe. If you recall from your fluid mechanics class, a specified pressure gradient is what drives Poisseulle flow. \n",
      "\n",
      "Recall the $x$-momentum equation:\n",
      "\n",
      "$$\\frac{\\partial u}{\\partial t}+u \\cdot \\nabla u = -\\frac{\\partial p}{\\partial x}+\\nu \\nabla^2 u$$\n",
      "\n",
      "What we actually do in Step 12 is split the pressure into steady and unsteady components $p=P+p'$. The applied steady pressure gradient is the constant $-\\frac{\\partial P}{\\partial x}=F$ (interpreted as a source term), and the unsteady component is $\\frac{\\partial p'}{\\partial x}$. So the pressure that we solve for in Step 12 is actually $p'$, which for a steady flow is in fact equal to zero everywhere.\n",
      "\n",
      "<b>Why did we do this?</b>\n",
      "\n",
      "Note that we use periodic boundary conditions for this flow. For a flow with a constant pressure gradient, the value of pressure on the left edge of the domain must be different from the pressure at the right edge. So we cannot apply periodic boundary conditions on the pressure directly. It is easier to fix the gradient and then solve for the perturbations in pressure.\n",
      "\n",
      "<b>Shouldn't we always expect a uniform/constant $p'$ then?</b>\n",
      "\n",
      "That's true only in the case of steady laminar flows. At high Reynolds numbers, flows in channels can become turbulent, and we will see unsteady fluctuations in the pressure, which will result in non-zero values for $p'$. \n",
      "\n",
      "In step 12, note that the pressure field itself is not constant, but it's the pressure perturbation field that is. The pressure field varies linearly along the channel with slope equal to the pressure gradient. Also, for incompressible flows, the absolute value of the pressure is inconsequential.\n"
     ]
    },
    {
     "cell_type": "markdown",
     "metadata": {},
     "source": [
      "#####And explore more CFD materials online"
     ]
    },
    {
     "cell_type": "markdown",
     "metadata": {},
     "source": [
      "The interactive module **12 steps to Navier-Stokes** is one of several components of the Computational Fluid Dynamics class taught by Prof. Lorena A. Barba in Boston University between 2009 and 2013. \n",
      "\n",
      "For a sample of what the othe components of this class are, you can explore the **Resources** section of the Spring 2013 version of [the course's Piazza site](https://piazza.com/bu/spring2013/me702/resources).\n",
      "\n",
      "***"
     ]
    },
    {
     "cell_type": "code",
     "collapsed": false,
     "input": [
      "from IPython.core.display import HTML\n",
      "def css_styling():\n",
      "    styles = open(\"../styles/custom.css\", \"r\").read()\n",
      "    return HTML(styles)\n",
      "css_styling()"
     ],
     "language": "python",
     "metadata": {},
     "outputs": [
      {
       "html": [
        "<style>\n",
        "    @font-face {\n",
        "        font-family: \"Computer Modern\";\n",
        "        src: url('http://mirrors.ctan.org/fonts/cm-unicode/fonts/otf/cmunss.otf');\n",
        "    }\n",
        "    div.cell{\n",
        "        width:800px;\n",
        "        margin-left:16% !important;\n",
        "        margin-right:auto;\n",
        "    }\n",
        "    h1 {\n",
        "        font-family: Helvetica, serif;\n",
        "    }\n",
        "    h2 {\n",
        "        font-family: Helvetica, serif;\n",
        "    }\n",
        "    h4{\n",
        "        margin-top:12px;\n",
        "        margin-bottom: 3px;\n",
        "       }\n",
        "    div.text_cell_render{\n",
        "        font-family: Computer Modern, \"Helvetica Neue\", Arial, Helvetica, Geneva, sans-serif;\n",
        "        line-height: 135%;\n",
        "        font-size: 120%;\n",
        "        width:600px;\n",
        "        margin-left:auto;\n",
        "        margin-right:auto;\n",
        "    }\n",
        "    .CodeMirror{\n",
        "            font-family: \"Source Code Pro\", source-code-pro,Consolas, monospace;\n",
        "    }\n",
        "/*    .prompt{\n",
        "        display: None;\n",
        "    }*/\n",
        "    .text_cell_render h5 {\n",
        "        font-weight: 300;\n",
        "        font-size: 16pt;\n",
        "        color: #4057A1;\n",
        "        font-style: italic;\n",
        "        margin-bottom: .5em;\n",
        "        margin-top: 0.5em;\n",
        "        display: block;\n",
        "    }\n",
        "    \n",
        "    .warning{\n",
        "        color: rgb( 240, 20, 20 )\n",
        "        }  \n",
        "</style>\n",
        "<script>\n",
        "    MathJax.Hub.Config({\n",
        "                        TeX: {\n",
        "                           extensions: [\"AMSmath.js\"]\n",
        "                           },\n",
        "                tex2jax: {\n",
        "                    inlineMath: [ ['$','$'], [\"\\\\(\",\"\\\\)\"] ],\n",
        "                    displayMath: [ ['$$','$$'], [\"\\\\[\",\"\\\\]\"] ]\n",
        "                },\n",
        "                displayAlign: 'center', // Change this to 'center' to center equations.\n",
        "                \"HTML-CSS\": {\n",
        "                    styles: {'.MathJax_Display': {\"margin\": 4}}\n",
        "                }\n",
        "        });\n",
        "</script>"
       ],
       "output_type": "pyout",
       "prompt_number": 1,
       "text": [
        "<IPython.core.display.HTML at 0x10ba4b0d0>"
       ]
      }
     ],
     "prompt_number": 1
    },
    {
     "cell_type": "markdown",
     "metadata": {},
     "source": [
      "(The cell above executes the style for this notebook.)"
     ]
    }
   ],
   "metadata": {}
  }
 ]
}