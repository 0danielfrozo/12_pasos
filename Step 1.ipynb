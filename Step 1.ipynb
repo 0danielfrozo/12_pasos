{
 "metadata": {
  "name": "Step 1"
 },
 "nbformat": 3,
 "nbformat_minor": 0,
 "worksheets": [
  {
   "cells": [
    {
     "cell_type": "heading",
     "level": 1,
     "metadata": {},
     "source": [
      "12 steps to Navier-Stokes"
     ]
    },
    {
     "cell_type": "markdown",
     "metadata": {},
     "source": [
      "Hello! Welcome to the **12 steps to Navier-Stokes**. This is a practical module that is used in the beginning of an interactive Computational Fluid Dynamics (CFD) course taught by [Prof. Lorena Barba](http://lorenabarba.com) since Spring 2009 at Boston University. The course assumes only basic programming knowledge (in any language) and of course some foundation in partial differential equations. The practical module was inspired by the ideas of Dr. Rio Yokota, who was a post-doc in Barba's lab, and has been refined by Prof. Barba and her students over several semesters teaching the course.\n",
      "\n",
      "This iPython notebook will lead you through the first step of programming your own Navier-Stokes solver in Python from the ground up.  We're going to dive right in.  Don't worry if you don't understand everything that's happening at first, we'll cover it in detail as we move forward.\n",
      "\n",
      "For best results, after you follow this notebook, prepare your own code for Step 1, either as a Python script or in a clean IPython notebook."
     ]
    },
    {
     "cell_type": "heading",
     "level": 2,
     "metadata": {},
     "source": [
      "Step 1: 1-D Linear Convection"
     ]
    },
    {
     "cell_type": "markdown",
     "metadata": {},
     "source": [
      "The 1-D Linear Convection equation is the simplest, most basic model that can be used to learn something about CFD. It is surprising that this little equation can teach us so much! Here it is:\n",
      "\n",
      "$$\\frac{\\partial u}{\\partial t} + c \\frac{\\partial u}{\\partial x} = 0$$\n",
      "\n",
      "With given initial conditions (understood as a *wave*), the equation represents the propagation of that initial *wave* with speed $c$, without change of shape. Let the initial condition be $u(x,0)=u_0$. Then the exact solution of the equation is $u(x,t)=u_0(x-ct)$.\n",
      "\n",
      "We discretize this equation in both space and time, using the Forward Difference scheme for the time derivative and the Backward Difference scheme for the space derivative. Consider discretizing the spatial coordinate $x$ into points that we index from $i=0$ to $N$, and stepping in discrete time intervals of size $\\Delta t$.\n",
      "\n",
      "From the definition of a derivative (and simply removing the limit), we know that:\n",
      "\n",
      "$$\\frac{\\partial u}{\\partial x}\\approx \\frac{u(x+\\Delta x)-u(x)}{\\Delta x}$$\n",
      "\n",
      "Our discrete equation, then, is:\n",
      "\n",
      "$$\\frac{u_i^{n+1}-u_i^n}{\\Delta t} + c \\frac{u_i^n - u_{i-1}^n}{\\Delta x} = 0 $$\n",
      "\n",
      "Where $n$ and $n+1$ are two consecutive steps in time, while $i-1$ and $i$ are two neighboring points of the discretized $x$ coordinate. If there are given initial conditions, then the only unknown in this discretization is $u_i^{n+1}$.  We can solve for our unknown and advance the equation in time.  \n",
      "\n",
      "$$u_i^{n+1} = u_i^n - c \\frac{\\Delta t}{\\Delta x}(u_i^n-u_{i-1}^n)$$\n",
      "\n",
      "Now let's try implementing this in Python.  \n",
      "\n",
      "We'll start by importing a few libraries to help us out."
     ]
    },
    {
     "cell_type": "code",
     "collapsed": false,
     "input": [
      "# Remember: comments in python are denoted by the pound sign\n",
      "import numpy as np                 #numpy is a library we're importing that provides a bunch of useful matrix operations akin to MATLAB\n",
      "import matplotlib.pyplot as plt    #matplotlib is 2D plotting library which we will use to plot our results\n",
      "import time, sys                        #basic timing functions we'll use to slow down animations for viewing\n",
      "from IPython.core.display import clear_output #used for inline animation"
     ],
     "language": "python",
     "metadata": {},
     "outputs": [],
     "prompt_number": 7
    },
    {
     "cell_type": "markdown",
     "metadata": {},
     "source": [
      "Now let's define a few variables; we want to define an evenly spaced grid of points within a spatial domain that is 2 units of length wide.  We'll define a variable `nx`, which will be the number of grid points we want and `dx` will be the distance between any pair of adjacent grid points.  "
     ]
    },
    {
     "cell_type": "code",
     "collapsed": false,
     "input": [
      "nx = 41  # try changing this number from 41 to 81 and Run All ... what happens?\n",
      "dx = 2./(nx-1)\n",
      "nt = 25    #nt is the number of timesteps we want to calculate\n",
      "dt = .025  #dt is the amount of time each timestep covers (delta t)\n",
      "c = 1.      #assume wavespeed of c = 1"
     ],
     "language": "python",
     "metadata": {},
     "outputs": [],
     "prompt_number": 1
    },
    {
     "cell_type": "markdown",
     "metadata": {},
     "source": [
      "We also need to set up our initial conditions, our initial velocity $u_0$ is given as \n",
      "$u = 2\\ @\\ 0.5 \\leq x \\leq 1$  and $u = 1$ everywhere else in $(0,2)$ (i.e., a hat function).\n",
      "\n"
     ]
    },
    {
     "cell_type": "code",
     "collapsed": false,
     "input": [
      "u = np.ones(nx)      #defining a numpy array which is nx elements long with every value equal to 1.\n",
      "u[.5/dx : 1/dx+1]=2  #setting u = 2 between 0.5 and 1 as per our I.C.s\n",
      "print u"
     ],
     "language": "python",
     "metadata": {},
     "outputs": [
      {
       "output_type": "stream",
       "stream": "stdout",
       "text": [
        "[ 1.  1.  1.  1.  1.  1.  1.  1.  1.  1.  2.  2.  2.  2.  2.  2.  2.  2.\n",
        "  2.  2.  2.  1.  1.  1.  1.  1.  1.  1.  1.  1.  1.  1.  1.  1.  1.  1.\n",
        "  1.  1.  1.  1.  1.]\n"
       ]
      }
     ],
     "prompt_number": 2
    },
    {
     "cell_type": "markdown",
     "metadata": {},
     "source": [
      "Now let's take a look at those initial conditions using a matplotlib plot.  We've imported the matplotlib plotting library as `plt` and the plotting function is called `plot`, so we'll call `plt.plot`. To learn about the myriad possibilities of matplotlib, explore the [Gallery](http://matplotlib.org/gallery.html)"
     ]
    },
    {
     "cell_type": "code",
     "collapsed": false,
     "input": [
      "plt.plot(np.linspace(0,2,nx), u) ##the syntax is plot(x,y) where the x values here are evenly distributed grid points"
     ],
     "language": "python",
     "metadata": {},
     "outputs": [
      {
       "output_type": "pyout",
       "prompt_number": 10,
       "text": [
        "[<matplotlib.lines.Line2D at 0x108c981d0>]"
       ]
      },
      {
       "output_type": "display_data",
       "png": "[encoded data removed]"
      }
     ],
     "prompt_number": 10
    },
    {
     "cell_type": "markdown",
     "metadata": {},
     "source": [
      "Why doesn't the hat function have perfectly straight sides?"
     ]
    },
    {
     "cell_type": "markdown",
     "metadata": {},
     "source": [
      "Now it's time to implement the discretization of the convection equation using a finite-difference scheme.  \n",
      "\n",
      "For every element of our array $u$, we need to perform the operation $u_i^{n+1} = u_i^n - c \\frac{\\Delta t}{\\Delta x}(u_i^n-u_{i-1}^n)$\n",
      "\n",
      "That will result in a new (temporary) array $un$, which will be the solution $u$ for the next time-step.  We will repeat this operation for as many time-steps as we specify and then we can see how far the wave has convected.  \n",
      "\n",
      "We have two iterative operations, so we'll start by nesting one inside the other.  "
     ]
    },
    {
     "cell_type": "code",
     "collapsed": false,
     "input": [
      "un = np.ones(nx) #initializing our placeholder array, un, to hold the values we calculate for the n+1 timestep\n",
      "\n",
      "for n in range(nt):  #this tells python to run this loop for values of n from 0 to nt, so it will run nt times\n",
      "    un[:] = u[:] ##copy the existing values of u into un\n",
      "    for i in range(1,nx):  ##now we'll iterate through the u array, but we're skipping the first element (the zero-th element).  Why?\n",
      "    #for i in range(nx): ## you can try to uncomment this line and comment out the line above and see what happens\n",
      "        u[i] = un[i]-c*dt/dx*(un[i]-un[i-1])\n",
      "        \n",
      "        "
     ],
     "language": "python",
     "metadata": {},
     "outputs": [],
     "prompt_number": 3
    },
    {
     "cell_type": "markdown",
     "metadata": {},
     "source": [
      "Now let's try plotting our $u$ array after advancing in time"
     ]
    },
    {
     "cell_type": "code",
     "collapsed": false,
     "input": [
      "plt.plot(np.linspace(0,2,nx),u)"
     ],
     "language": "python",
     "metadata": {},
     "outputs": [
      {
       "output_type": "pyout",
       "prompt_number": 4,
       "text": [
        "[<matplotlib.lines.Line2D at 0x1082312d0>]"
       ]
      },
      {
       "output_type": "display_data",
       "png": "[encoded data removed]"
      }
     ],
     "prompt_number": 4
    },
    {
     "cell_type": "markdown",
     "metadata": {},
     "source": [
      "Ok! So our hat function has definitely moved to the right, but it's no longer a hat.  **What's going on?**"
     ]
    },
    {
     "cell_type": "heading",
     "level": 2,
     "metadata": {},
     "source": [
      "Learn More"
     ]
    },
    {
     "cell_type": "markdown",
     "metadata": {},
     "source": [
      "For a more thorough explanation of the finite-difference method, watch Video Lessons 2 and 3 by Prof. Barba on YouTube."
     ]
    },
    {
     "cell_type": "code",
     "collapsed": false,
     "input": [
      "from IPython.display import YouTubeVideo\n",
      "YouTubeVideo('iz22_37mMkk')"
     ],
     "language": "python",
     "metadata": {},
     "outputs": [
      {
       "html": [
        "\n",
        "            <iframe\n",
        "                width=\"400\"\n",
        "                height=\"300\"\n",
        "                src=\"http://www.youtube.com/embed/iz22_37mMkk\"\n",
        "                frameborder=\"0\"\n",
        "                allowfullscreen\n",
        "            ></iframe>\n",
        "        "
       ],
       "output_type": "pyout",
       "prompt_number": 5,
       "text": [
        "<IPython.lib.display.YouTubeVideo at 0x1080ba590>"
       ]
      }
     ],
     "prompt_number": 5
    },
    {
     "cell_type": "code",
     "collapsed": false,
     "input": [
      "YouTubeVideo('xq9YTcv-fQg')"
     ],
     "language": "python",
     "metadata": {},
     "outputs": [
      {
       "html": [
        "\n",
        "            <iframe\n",
        "                width=\"400\"\n",
        "                height=\"300\"\n",
        "                src=\"http://www.youtube.com/embed/xq9YTcv-fQg\"\n",
        "                frameborder=\"0\"\n",
        "                allowfullscreen\n",
        "            ></iframe>\n",
        "        "
       ],
       "output_type": "pyout",
       "prompt_number": 6,
       "text": [
        "<IPython.lib.display.YouTubeVideo at 0x1080ba210>"
       ]
      }
     ],
     "prompt_number": 6
    },
    {
     "cell_type": "code",
     "collapsed": false,
     "input": [],
     "language": "python",
     "metadata": {},
     "outputs": []
    }
   ],
   "metadata": {}
  }
 ]
}