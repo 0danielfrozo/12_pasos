{
 "metadata": {
  "name": "Step 4"
 },
 "nbformat": 3,
 "nbformat_minor": 0,
 "worksheets": [
  {
   "cells": [
    {
     "cell_type": "heading",
     "level": 1,
     "metadata": {},
     "source": [
      "Burgers' Equation"
     ]
    },
    {
     "cell_type": "markdown",
     "metadata": {},
     "source": [
      "You can read about Burgers Equation on its [wikipedia page](http://en.wikipedia.org/wiki/Burgers'_equation).\n",
      "\n",
      "Burgers' equation is defined as:\n",
      "\n",
      "$$\\frac{\\partial u}{\\partial t} + u \\frac{\\partial u}{\\partial x} = \\nu \\frac{\\partial ^2u}{\\partial x^2}$$\n",
      "\n",
      "We can discretize it using the methods we've already detailed in Steps 1-3.  Using forward difference for time, backward difference for space and our 2nd-order method for the second derivatives yields:\n",
      "\n",
      "$$\\frac{u_i^{n+1}-u_i^n}{\\Delta t} + u_i^n \\frac{u_i^n - u_{i-1}^n}{\\Delta x} = \\nu \\frac{u_{i+1}^n - 2u_i^n + u_{i-1}^n}{\\Delta x^2}$$\n",
      "\n",
      "Now transpose the equation to solve for $u_i^{n+1}$ --\n",
      "\n",
      "$$u_i^{n+1} = u_i^n - u_i^n \\frac{\\Delta t}{\\Delta x} (u_i^n - u_{i-1}^n) + \\nu \\frac{\\Delta t}{\\Delta x^2}(u_{i+1}^n - 2u_i^n + u_{i-1}^n)$$"
     ]
    },
    {
     "cell_type": "heading",
     "level": 2,
     "metadata": {},
     "source": [
      "Initial and Boundary Conditions"
     ]
    },
    {
     "cell_type": "markdown",
     "metadata": {},
     "source": [
      "To examine some interesting properties of Burger's equation, it is helpful use different initial and boundary conditions than we've been using for previous steps.  \n",
      "\n",
      "Our initial condition for this problem is:\n",
      "\n",
      "$$u = -2 \\nu \\frac{\\frac{\\partial \\phi}{\\partial x}}{\\phi} + 4$$ \n",
      "where $$\\phi = exp \\bigg(\\frac{-(x-4t)^2}{4 \\nu (t+1)} \\bigg) + exp \\bigg(\\frac{-(x-4t-2 \\pi)^2}{4 \\nu (t+1)} \\bigg)$$\n",
      "\n",
      "Our boundary condition is:\n",
      "\n",
      "$$u(0) = u(2\\pi)$$\n",
      "\n",
      "This is called a *periodic* boundary condition."
     ]
    },
    {
     "cell_type": "markdown",
     "metadata": {},
     "source": [
      "Saving Time with SymPy\n",
      "----------------------\n",
      "\n",
      "The initial condition we're using for Burgers' Equation can be a bit of a pain to evaluate by hand.  The derivative $\\frac{\\partial \\phi\\}{\\partial x}$ isn't too terribly difficult, but it would be easy to drop a sign or forget a factor of $x$ somewhere, so we're going to use *SymPy* to help us out.  \n",
      "\n",
      "Sympy is the symbolic math library for Python.  It has a lot of the same symbolic math functionality as Mathematica with the added benefit that we can easily translate its results back into our calculations. \n",
      "\n",
      "Start by loading the SymPy library\n",
      "\n",
      "    import sympy\n",
      "\n",
      "We're also going to use an iPython Notebook *magic* to tell SymPy that we want all of its output to be rendered using $Latex$\n",
      "    \n",
      "    %load_ext sympy.interactive.ipythonprinting"
     ]
    },
    {
     "cell_type": "code",
     "collapsed": false,
     "input": [
      "import sympy\n",
      "%load_ext sympy.interactive.ipythonprinting"
     ],
     "language": "python",
     "metadata": {},
     "outputs": [],
     "prompt_number": 1
    },
    {
     "cell_type": "markdown",
     "metadata": {},
     "source": [
      "Start by setting up symbolic variables for the three variables in our initial condition and then type out the full equation for $\\phi$.  We should get a nicely rendered version of our $\\phi$ equation."
     ]
    },
    {
     "cell_type": "code",
     "collapsed": false,
     "input": [
      "x = sympy.Symbol('x')\n",
      "nu = sympy.Symbol('nu')\n",
      "t = sympy.Symbol('t')\n",
      "phi = sympy.exp(-(x-4*t)**2/(4*nu*(t+1))) + sympy.exp(-(x-4*t-2*sympy.pi())**2/(4*nu*(t+1)))\n",
      "phi"
     ],
     "language": "python",
     "metadata": {},
     "outputs": [
      {
       "latex": [
        "$$e^{- \\frac{\\left(- 4 t + x - 2 \\pi\\right)^{2}}{4 \\nu \\left(t + 1\\right)}} + e^{- \\frac{\\left(- 4 t + x\\right)^{2}}{4 \\nu \\left(t + 1\\right)}}$$"
       ],
       "output_type": "pyout",
       "png": "[encoded data removed]",
       "prompt_number": 2,
       "text": [
        "                  2               2\n",
        " -(-4\u22c5t + x - 2\u22c5\u03c0)     -(-4\u22c5t + x) \n",
        " \u2500\u2500\u2500\u2500\u2500\u2500\u2500\u2500\u2500\u2500\u2500\u2500\u2500\u2500\u2500\u2500\u2500\u2500    \u2500\u2500\u2500\u2500\u2500\u2500\u2500\u2500\u2500\u2500\u2500\u2500\n",
        "    4\u22c5\u03bd\u22c5(t + 1)        4\u22c5\u03bd\u22c5(t + 1) \n",
        "\u212f                   + \u212f            "
       ]
      }
     ],
     "prompt_number": 2
    },
    {
     "cell_type": "markdown",
     "metadata": {},
     "source": [
      "It's maybe a little small, but that looks right.  Now to evaluate our partial derivative $\\frac{\\partial \\phi}{\\partial x}$ is a trivial task.  "
     ]
    },
    {
     "cell_type": "code",
     "collapsed": false,
     "input": [
      "phiprime = phi.diff(x)\n",
      "phiprime"
     ],
     "language": "python",
     "metadata": {},
     "outputs": [
      {
       "latex": [
        "$$- \\frac{\\left(- 8 t + 2 x\\right) e^{- \\frac{\\left(- 4 t + x\\right)^{2}}{4 \\nu \\left(t + 1\\right)}}}{4 \\nu \\left(t + 1\\right)} - \\frac{\\left(- 8 t + 2 x - 4 \\pi\\right) e^{- \\frac{\\left(- 4 t + x - 2 \\pi\\right)^{2}}{4 \\nu \\left(t + 1\\right)}}}{4 \\nu \\left(t + 1\\right)}$$"
       ],
       "output_type": "pyout",
       "png": "[encoded data removed]",
       "prompt_number": 3,
       "text": [
        "                           2                                        2\n",
        "                -(-4\u22c5t + x)                        -(-4\u22c5t + x - 2\u22c5\u03c0) \n",
        "                \u2500\u2500\u2500\u2500\u2500\u2500\u2500\u2500\u2500\u2500\u2500\u2500                       \u2500\u2500\u2500\u2500\u2500\u2500\u2500\u2500\u2500\u2500\u2500\u2500\u2500\u2500\u2500\u2500\u2500\u2500\n",
        "                4\u22c5\u03bd\u22c5(t + 1)                           4\u22c5\u03bd\u22c5(t + 1)    \n",
        "  (-8\u22c5t + 2\u22c5x)\u22c5\u212f               (-8\u22c5t + 2\u22c5x - 4\u22c5\u03c0)\u22c5\u212f                  \n",
        "- \u2500\u2500\u2500\u2500\u2500\u2500\u2500\u2500\u2500\u2500\u2500\u2500\u2500\u2500\u2500\u2500\u2500\u2500\u2500\u2500\u2500\u2500\u2500\u2500\u2500\u2500 - \u2500\u2500\u2500\u2500\u2500\u2500\u2500\u2500\u2500\u2500\u2500\u2500\u2500\u2500\u2500\u2500\u2500\u2500\u2500\u2500\u2500\u2500\u2500\u2500\u2500\u2500\u2500\u2500\u2500\u2500\u2500\u2500\u2500\u2500\u2500\u2500\u2500\u2500\n",
        "         4\u22c5\u03bd\u22c5(t + 1)                        4\u22c5\u03bd\u22c5(t + 1)              "
       ]
      }
     ],
     "prompt_number": 3
    },
    {
     "cell_type": "markdown",
     "metadata": {},
     "source": [
      "If you want to see the unrendered version, just use the Python print command."
     ]
    },
    {
     "cell_type": "code",
     "collapsed": false,
     "input": [
      "print phiprime"
     ],
     "language": "python",
     "metadata": {},
     "outputs": [
      {
       "output_type": "stream",
       "stream": "stdout",
       "text": [
        "-(-8*t + 2*x)*exp(-(-4*t + x)**2/(4*nu*(t + 1)))/(4*nu*(t + 1)) - (-8*t + 2*x - 4*pi)*exp(-(-4*t + x - 2*pi)**2/(4*nu*(t + 1)))/(4*nu*(t + 1))\n"
       ]
      }
     ],
     "prompt_number": 4
    },
    {
     "cell_type": "markdown",
     "metadata": {},
     "source": [
      "Now what?\n",
      "------\n",
      "\n",
      "Now that we have the Pythonic version of our derivative, we can finish writing out the full initial condition equation and then translate it into a usable Python expression.  For this, we'll use the *lambdify* function, which takes a SymPy symbolic equation and turns it into a callable function.  "
     ]
    },
    {
     "cell_type": "code",
     "collapsed": false,
     "input": [
      "from sympy.utilities.lambdify import lambdify\n",
      "\n",
      "u = -2*nu*(phiprime/phi)+4\n",
      "u"
     ],
     "language": "python",
     "metadata": {},
     "outputs": [
      {
       "latex": [
        "$$- 2 \\frac{\\nu \\left(- \\frac{\\left(- 8 t + 2 x\\right) e^{- \\frac{\\left(- 4 t + x\\right)^{2}}{4 \\nu \\left(t + 1\\right)}}}{4 \\nu \\left(t + 1\\right)} - \\frac{\\left(- 8 t + 2 x - 4 \\pi\\right) e^{- \\frac{\\left(- 4 t + x - 2 \\pi\\right)^{2}}{4 \\nu \\left(t + 1\\right)}}}{4 \\nu \\left(t + 1\\right)}\\right)}{e^{- \\frac{\\left(- 4 t + x - 2 \\pi\\right)^{2}}{4 \\nu \\left(t + 1\\right)}} + e^{- \\frac{\\left(- 4 t + x\\right)^{2}}{4 \\nu \\left(t + 1\\right)}}} + 4$$"
       ],
       "output_type": "pyout",
       "png": "[encoded data removed]",
       "prompt_number": 5,
       "text": [
        "      \u239b                           2                                        2\u239e \n",
        "      \u239c                -(-4\u22c5t + x)                        -(-4\u22c5t + x - 2\u22c5\u03c0) \u239f \n",
        "      \u239c                \u2500\u2500\u2500\u2500\u2500\u2500\u2500\u2500\u2500\u2500\u2500\u2500                       \u2500\u2500\u2500\u2500\u2500\u2500\u2500\u2500\u2500\u2500\u2500\u2500\u2500\u2500\u2500\u2500\u2500\u2500\u239f \n",
        "      \u239c                4\u22c5\u03bd\u22c5(t + 1)                           4\u22c5\u03bd\u22c5(t + 1)    \u239f \n",
        "      \u239c  (-8\u22c5t + 2\u22c5x)\u22c5\u212f               (-8\u22c5t + 2\u22c5x - 4\u22c5\u03c0)\u22c5\u212f                  \u239f \n",
        "  2\u22c5\u03bd\u22c5\u239c- \u2500\u2500\u2500\u2500\u2500\u2500\u2500\u2500\u2500\u2500\u2500\u2500\u2500\u2500\u2500\u2500\u2500\u2500\u2500\u2500\u2500\u2500\u2500\u2500\u2500\u2500 - \u2500\u2500\u2500\u2500\u2500\u2500\u2500\u2500\u2500\u2500\u2500\u2500\u2500\u2500\u2500\u2500\u2500\u2500\u2500\u2500\u2500\u2500\u2500\u2500\u2500\u2500\u2500\u2500\u2500\u2500\u2500\u2500\u2500\u2500\u2500\u2500\u2500\u2500\u239f \n",
        "      \u239d         4\u22c5\u03bd\u22c5(t + 1)                        4\u22c5\u03bd\u22c5(t + 1)              \u23a0 \n",
        "- \u2500\u2500\u2500\u2500\u2500\u2500\u2500\u2500\u2500\u2500\u2500\u2500\u2500\u2500\u2500\u2500\u2500\u2500\u2500\u2500\u2500\u2500\u2500\u2500\u2500\u2500\u2500\u2500\u2500\u2500\u2500\u2500\u2500\u2500\u2500\u2500\u2500\u2500\u2500\u2500\u2500\u2500\u2500\u2500\u2500\u2500\u2500\u2500\u2500\u2500\u2500\u2500\u2500\u2500\u2500\u2500\u2500\u2500\u2500\u2500\u2500\u2500\u2500\u2500\u2500\u2500\u2500\u2500\u2500\u2500\u2500\u2500\u2500\u2500\u2500 \n",
        "                                        2               2                     \n",
        "                       -(-4\u22c5t + x - 2\u22c5\u03c0)     -(-4\u22c5t + x)                      \n",
        "                       \u2500\u2500\u2500\u2500\u2500\u2500\u2500\u2500\u2500\u2500\u2500\u2500\u2500\u2500\u2500\u2500\u2500\u2500    \u2500\u2500\u2500\u2500\u2500\u2500\u2500\u2500\u2500\u2500\u2500\u2500                     \n",
        "                          4\u22c5\u03bd\u22c5(t + 1)        4\u22c5\u03bd\u22c5(t + 1)                      \n",
        "                      \u212f                   + \u212f                                 \n",
        "\n",
        "   \n",
        "   \n",
        "   \n",
        "   \n",
        "   \n",
        "   \n",
        "   \n",
        "+ 4\n",
        "   \n",
        "   \n",
        "   \n",
        "   \n",
        "   "
       ]
      }
     ],
     "prompt_number": 5
    },
    {
     "cell_type": "markdown",
     "metadata": {},
     "source": [
      "Lambdify\n",
      "-----\n",
      "To lambdify this expression into a useable function, we tell lambdify which variables to request and the function we want to plug them in to."
     ]
    },
    {
     "cell_type": "code",
     "collapsed": false,
     "input": [
      "%unload_ext sympy.interactive.ipythonprinting\n",
      "ufunc = lambdify((t, x, nu), u)\n",
      "ufunc(1,4,3)"
     ],
     "language": "python",
     "metadata": {},
     "outputs": [
      {
       "output_type": "pyout",
       "png": "[encoded data removed]",
       "prompt_number": 9,
       "text": [
        "3.49170664206445"
       ]
      }
     ],
     "prompt_number": 9
    }
   ],
   "metadata": {}
  }
 ]
}