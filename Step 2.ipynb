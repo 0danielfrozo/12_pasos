{
 "metadata": {
  "name": "Step 2"
 },
 "nbformat": 3,
 "nbformat_minor": 0,
 "worksheets": [
  {
   "cells": [
    {
     "cell_type": "heading",
     "level": 1,
     "metadata": {},
     "source": [
      "Non-linear Convection"
     ]
    },
    {
     "cell_type": "markdown",
     "metadata": {},
     "source": [
      "Now we're going to implement non-linear convection using the same methods as in step 1.  The 1D convection equation is:\n",
      "\n",
      "$$\\frac{\\partial u}{\\partial t} + u \\frac{\\partial u}{\\partial x} = 0$$\n",
      "\n",
      "Instead of a constant factor $c$ multiplying the second term, now we have $u$ multiplying it.  We're going to use the same discretization as in Step 1 -- forward difference in time and backward difference in space.  \n",
      "\n",
      "$$\\frac{u_i^{n+1}-u_i^n}{\\Delta t} + u_i^n \\frac{u_i^n-u_{i-1}^n}{\\Delta x} = 0$$\n",
      "\n",
      "Transposing to solve for $u_i^{n+1}$ yields:\n",
      "\n",
      "$$u_i^{n+1} = u_i^n - u_i^n \\frac{\\Delta t}{\\Delta x} (u_i^n - u_{i-1}^n)$$"
     ]
    },
    {
     "cell_type": "code",
     "collapsed": true,
     "input": [
      "import numpy as np                 #numpy is a library we're importing that provides a bunch of useful matrix operations akin to MATLAB\n",
      "import matplotlib.pyplot as plt    #matplotlib is 2D plotting library which we will use to plot our results\n",
      "\n",
      "\n",
      "nx = 41\n",
      "dx = 2./(nx-1)\n",
      "nt = 20    #nt is the number of timesteps we want to calculate\n",
      "dt = .025  #dt is the amount of time each timestep covers (delta t)\n",
      "\n",
      "u = np.ones(nx)      #defining a numpy array which is nx elements long with every value equal to 1.\n",
      "u[.5/dx : 1/dx+1]=2  #setting u = 2 between 0.5 and 1 as per our I.C.s\n",
      "\n",
      "un = np.ones(nx) #initializing our placeholder array, un, to hold the values we calculate for the n+1 timestep\n",
      "\n",
      "for n in range(nt):  #iterate through time\n",
      "    un[:] = u[:] ##copy the existing values of u into un\n",
      "    for i in range(1,nx):  ##now we'll iterate through the u array\n",
      "    \n",
      "     ###This is the line from Step 1, copied exactly.  Edit it according to our new discretization\n",
      "     ###and then uncomment it and run the cell to evaluate the non-linear convection equation\n",
      "     \n",
      "        \n",
      "        ###   u[i] = un[i]-c*dt/dx*(un[i]-un[i-1]) \n",
      "        \n",
      "        \n",
      "plt.plot(np.linspace(0,2,nx),u) ##Plot the results"
     ],
     "language": "python",
     "metadata": {},
     "outputs": [
      {
       "output_type": "pyout",
       "prompt_number": 6,
       "text": [
        "[<matplotlib.lines.Line2D at 0x2e14990>]"
       ]
      },
      {
       "output_type": "display_data",
       "png": "[encoded data removed]"
      }
     ],
     "prompt_number": 6
    },
    {
     "cell_type": "code",
     "collapsed": false,
     "input": [],
     "language": "python",
     "metadata": {},
     "outputs": []
    }
   ],
   "metadata": {}
  }
 ]
}