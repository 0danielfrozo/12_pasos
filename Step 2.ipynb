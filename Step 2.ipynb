{
 "metadata": {
  "name": "Step 2"
 },
 "nbformat": 3,
 "nbformat_minor": 0,
 "worksheets": [
  {
   "cells": [
    {
     "cell_type": "raw",
     "metadata": {},
     "source": [
      "Text and code provided under a Creative Commons Attribution license, CC-BY. Lorena A. Barba, 2013.\n",
      "Acknowledgements: Gilbert Forsyth for help writing the notebooks. NSF for support via CAREER award #1149784."
     ]
    },
    {
     "cell_type": "markdown",
     "metadata": {},
     "source": [
      "[@LorenaABarba](https://twitter.com/LorenaABarba)"
     ]
    },
    {
     "cell_type": "heading",
     "level": 1,
     "metadata": {},
     "source": [
      "12 steps to Navier-Stokes"
     ]
    },
    {
     "cell_type": "markdown",
     "metadata": {},
     "source": [
      "This IPython notebook continues the presentation of the **12 steps to Navier-Stokes**, the practical module taught in the CFD class of [Prof. Lorena Barba](http://lorenabarba.com). You should have completed Step 1 before continuing, having written your own Python script or notebook and having experimented with varying the parameters of the discretization and observing what happens."
     ]
    },
    {
     "cell_type": "heading",
     "level": 2,
     "metadata": {},
     "source": [
      "Step 2: Non-linear Convection"
     ]
    },
    {
     "cell_type": "markdown",
     "metadata": {},
     "source": [
      "Now we're going to implement non-linear convection using the same methods as in step 1.  The 1D convection equation is:\n",
      "\n",
      "$$\\frac{\\partial u}{\\partial t} + u \\frac{\\partial u}{\\partial x} = 0$$\n",
      "\n",
      "Instead of a constant factor $c$ multiplying the second term, now we have the solution $u$ multiplying it. Thus, the second term of the equation is now *non-linear*  We're going to use the same discretization as in Step 1 \u2014 forward difference in time and backward difference in space. Here is the discretized equation.\n",
      "\n",
      "$$\\frac{u_i^{n+1}-u_i^n}{\\Delta t} + u_i^n \\frac{u_i^n-u_{i-1}^n}{\\Delta x} = 0$$\n",
      "\n",
      "Solving for the only unknown term, $u_i^{n+1}$, yields:\n",
      "\n",
      "$$u_i^{n+1} = u_i^n - u_i^n \\frac{\\Delta t}{\\Delta x} (u_i^n - u_{i-1}^n)$$"
     ]
    },
    {
     "cell_type": "markdown",
     "metadata": {},
     "source": [
      "As before, the Python code starts by loading the necessary libraries. Then, we declare some variables that determine the discretization in space and time (you should experiment by changing these parameters to see what happens). Then, we create the initial condition $u_0$ by initializing the array for the solution using $u = 2\\ @\\ 0.5 \\leq x \\leq 1$  and $u = 1$ everywhere else in $(0,2)$ (i.e., a hat function)."
     ]
    },
    {
     "cell_type": "code",
     "collapsed": true,
     "input": [
      "import numpy as np                 #numpy is a library we're importing that provides a bunch of useful matrix operations akin to MATLAB\n",
      "import matplotlib.pyplot as plt    #matplotlib is 2D plotting library which we will use to plot our results\n",
      "\n",
      "\n",
      "nx = 41\n",
      "dx = 2./(nx-1)\n",
      "nt = 20    #nt is the number of timesteps we want to calculate\n",
      "dt = .025  #dt is the amount of time each timestep covers (delta t)\n",
      "\n",
      "u = np.ones(nx)      #defining a numpy array which is nx elements long with every value equal to 1.\n",
      "u[.5/dx : 1/dx+1]=2  #setting u = 2 between 0.5 and 1 as per our I.C.s\n",
      "\n",
      "un = np.ones(nx) #initializing our placeholder array, un, to hold the values we calculate for the n+1 timestep"
     ],
     "language": "python",
     "metadata": {},
     "outputs": [],
     "prompt_number": 2
    },
    {
     "cell_type": "markdown",
     "metadata": {},
     "source": [
      "The code snippet below is unfinished. We have copied over the line from Step 1 that executes the time-stepping update. Can you edit this code to execute the non-linear convection instead?"
     ]
    },
    {
     "cell_type": "code",
     "collapsed": false,
     "input": [
      "for n in range(nt):  #iterate through time\n",
      "    un[:] = u[:] ##copy the existing values of u into un\n",
      "    for i in range(1,nx):  ##now we'll iterate through the u array\n",
      "    \n",
      "     ###This is the line from Step 1, copied exactly.  Edit it according to our new discretization\n",
      "     ###and then uncomment it and run the cell to evaluate the non-linear convection equation   \n",
      "      \n",
      "        ###   u[i] = un[i]-c*dt/dx*(un[i]-un[i-1]) \n",
      "        \n",
      "        \n",
      "plt.plot(np.linspace(0,2,nx),u) ##Plot the results"
     ],
     "language": "python",
     "metadata": {},
     "outputs": []
    },
    {
     "cell_type": "heading",
     "level": 2,
     "metadata": {},
     "source": [
      "Learn More"
     ]
    },
    {
     "cell_type": "markdown",
     "metadata": {},
     "source": [
      "For a step-by-step walkthrough of Step 2, see Prof. Barba's **Video Lecture 4** on YouTube."
     ]
    },
    {
     "cell_type": "code",
     "collapsed": false,
     "input": [
      "from IPython.display import YouTubeVideo\n",
      "YouTubeVideo('y2WaK7_iMRI')"
     ],
     "language": "python",
     "metadata": {},
     "outputs": [
      {
       "html": [
        "\n",
        "            <iframe\n",
        "                width=\"400\"\n",
        "                height=\"300\"\n",
        "                src=\"http://www.youtube.com/embed/y2WaK7_iMRI\"\n",
        "                frameborder=\"0\"\n",
        "                allowfullscreen\n",
        "            ></iframe>\n",
        "        "
       ],
       "output_type": "pyout",
       "prompt_number": 3,
       "text": [
        "<IPython.lib.display.YouTubeVideo at 0x1080ba810>"
       ]
      }
     ],
     "prompt_number": 3
    },
    {
     "cell_type": "code",
     "collapsed": false,
     "input": [],
     "language": "python",
     "metadata": {},
     "outputs": []
    }
   ],
   "metadata": {}
  }
 ]
}